{
 "cells": [
  {
   "metadata": {},
   "cell_type": "markdown",
   "source": [
    "# Resampling methods for model evaluation and attribute selection\n",
    "\n"
   ],
   "id": "a71f5c1c79e623c9"
  },
  {
   "metadata": {
    "ExecuteTime": {
     "end_time": "2024-11-07T16:09:40.799683Z",
     "start_time": "2024-11-07T16:09:39.245829Z"
    }
   },
   "cell_type": "code",
   "source": [
    "import pandas as pd\n",
    "import numpy as np\n",
    "from sklearn.linear_model import LinearRegression\n",
    "from sklearn.metrics import mean_squared_error\n",
    "from sklearn.utils import resample\n",
    "from sklearn.model_selection import train_test_split\n",
    "import matplotlib.pyplot as plt     "
   ],
   "id": "b56085551d747ecb",
   "outputs": [],
   "execution_count": 1
  },
  {
   "metadata": {},
   "cell_type": "markdown",
   "source": "## Data preprocessing",
   "id": "9737db98f6496c70"
  },
  {
   "cell_type": "code",
   "id": "initial_id",
   "metadata": {
    "collapsed": true,
    "ExecuteTime": {
     "end_time": "2024-11-07T16:09:51.320013Z",
     "start_time": "2024-11-07T16:09:51.276425Z"
    }
   },
   "source": [
    "\n",
    "data_path = \"data/communities.data\"\n",
    "data = pd.read_csv(data_path, header=None, na_values=['?'])\n",
    "\n",
    "# Reading attribute names from the .names file\n",
    "def load_attribute_names(names_path):\n",
    "    attribute_names = []\n",
    "    with open(names_path, 'r') as f:\n",
    "        for line in f:\n",
    "            if line.startswith('@attribute'):\n",
    "                attribute_name = line.split()[1]\n",
    "                attribute_names.append(attribute_name)\n",
    "    return attribute_names\n",
    "\n",
    "names_path = \"data/communities.names\"\n",
    "attribute_names = load_attribute_names(names_path)\n",
    "\n",
    "data.columns = attribute_names\n",
    "\n",
    "print(data.head())\n",
    "\n",
    "# Number of Instances: 1994\n",
    "# Number of Attributes: 128\n"
   ],
   "outputs": [
    {
     "name": "stdout",
     "output_type": "stream",
     "text": [
      "   state  county  community        communityname  fold  population  \\\n",
      "0      8     NaN        NaN         Lakewoodcity     1        0.19   \n",
      "1     53     NaN        NaN          Tukwilacity     1        0.00   \n",
      "2     24     NaN        NaN         Aberdeentown     1        0.00   \n",
      "3     34     5.0    81440.0  Willingborotownship     1        0.04   \n",
      "4     42    95.0     6096.0    Bethlehemtownship     1        0.01   \n",
      "\n",
      "   householdsize  racepctblack  racePctWhite  racePctAsian  ...  LandArea  \\\n",
      "0           0.33          0.02          0.90          0.12  ...      0.12   \n",
      "1           0.16          0.12          0.74          0.45  ...      0.02   \n",
      "2           0.42          0.49          0.56          0.17  ...      0.01   \n",
      "3           0.77          1.00          0.08          0.12  ...      0.02   \n",
      "4           0.55          0.02          0.95          0.09  ...      0.04   \n",
      "\n",
      "   PopDens  PctUsePubTrans  PolicCars  PolicOperBudg  LemasPctPolicOnPatr  \\\n",
      "0     0.26            0.20       0.06           0.04                  0.9   \n",
      "1     0.12            0.45        NaN            NaN                  NaN   \n",
      "2     0.21            0.02        NaN            NaN                  NaN   \n",
      "3     0.39            0.28        NaN            NaN                  NaN   \n",
      "4     0.09            0.02        NaN            NaN                  NaN   \n",
      "\n",
      "   LemasGangUnitDeploy  LemasPctOfficDrugUn  PolicBudgPerPop  \\\n",
      "0                  0.5                 0.32             0.14   \n",
      "1                  NaN                 0.00              NaN   \n",
      "2                  NaN                 0.00              NaN   \n",
      "3                  NaN                 0.00              NaN   \n",
      "4                  NaN                 0.00              NaN   \n",
      "\n",
      "   ViolentCrimesPerPop  \n",
      "0                 0.20  \n",
      "1                 0.67  \n",
      "2                 0.43  \n",
      "3                 0.12  \n",
      "4                 0.03  \n",
      "\n",
      "[5 rows x 128 columns]\n"
     ]
    }
   ],
   "execution_count": 2
  },
  {
   "metadata": {
    "ExecuteTime": {
     "end_time": "2024-11-07T16:09:53.816775Z",
     "start_time": "2024-11-07T16:09:53.811308Z"
    }
   },
   "cell_type": "code",
   "source": [
    "missing_values = data.isna().sum()\n",
    "print(missing_values)"
   ],
   "id": "7fa016941ef944d5",
   "outputs": [
    {
     "name": "stdout",
     "output_type": "stream",
     "text": [
      "state                     0\n",
      "county                 1174\n",
      "community              1177\n",
      "communityname             0\n",
      "fold                      0\n",
      "                       ... \n",
      "LemasPctPolicOnPatr    1675\n",
      "LemasGangUnitDeploy    1675\n",
      "LemasPctOfficDrugUn       0\n",
      "PolicBudgPerPop        1675\n",
      "ViolentCrimesPerPop       0\n",
      "Length: 128, dtype: int64\n"
     ]
    }
   ],
   "execution_count": 3
  },
  {
   "metadata": {
    "ExecuteTime": {
     "end_time": "2024-11-07T16:09:55.553610Z",
     "start_time": "2024-11-07T16:09:55.548627Z"
    }
   },
   "cell_type": "code",
   "source": [
    "# data = data.drop(['state', 'county', 'community', 'communityname', 'fold'], axis=1)\n",
    "data = data.drop(data.columns[0:5], axis=1)"
   ],
   "id": "613c1809e9d3db03",
   "outputs": [],
   "execution_count": 4
  },
  {
   "metadata": {
    "ExecuteTime": {
     "end_time": "2024-11-07T16:09:56.985519Z",
     "start_time": "2024-11-07T16:09:56.968409Z"
    }
   },
   "cell_type": "code",
   "source": [
    "# Since there is only numeric data left - missing values => average of the feature\n",
    "data = data.fillna(data.mean())"
   ],
   "id": "b25364af496c080f",
   "outputs": [],
   "execution_count": 5
  },
  {
   "metadata": {
    "ExecuteTime": {
     "end_time": "2024-11-07T16:09:58.161843Z",
     "start_time": "2024-11-07T16:09:58.155334Z"
    }
   },
   "cell_type": "code",
   "source": [
    "total_missing = data.isna().sum().sum()\n",
    "print(f\"Total missing values: {total_missing}\")"
   ],
   "id": "ede897ed2cd367c7",
   "outputs": [
    {
     "name": "stdout",
     "output_type": "stream",
     "text": [
      "Total missing values: 0\n"
     ]
    }
   ],
   "execution_count": 6
  },
  {
   "metadata": {
    "ExecuteTime": {
     "end_time": "2024-11-07T16:09:59.333595Z",
     "start_time": "2024-11-07T16:09:59.323253Z"
    }
   },
   "cell_type": "code",
   "source": [
    "y = data['ViolentCrimesPerPop']\n",
    "X = data.drop(columns=['ViolentCrimesPerPop'])\n",
    "\n",
    "X_train, X_test, y_train, y_test = train_test_split(X, y, test_size=0.2, random_state=42) # random_state = 42 to get the same split every time"
   ],
   "id": "b16b4867f1073345",
   "outputs": [],
   "execution_count": 7
  },
  {
   "metadata": {},
   "cell_type": "markdown",
   "source": [
    "## Cross Validation Method\n",
    "\n",
    "Cross validation is a technique used to evaluate the performance of a model on unseen data. It involves dividing the available data into multiple folds or subsets, using one of these folds as a validation set, and training the model on the remaining folds. This process is repeated multiple times, each time using a different fold as the validation set. Finally, the results from each validation step are averaged to produce a more robust estimate of the model’s performance. Cross validation is an important step in the machine learning process and helps to ensure that the model selected for deployment is robust and generalizes well to new data. \n",
    "\n",
    "Types of cross-validation:\n",
    "1. Leave-One-Out CV: the model is trained on n−1 samples and tested on the one omitted sample, repeating this process for each data point in the dataset.\n",
    "2. K-Fold CV: we split the dataset into k number of subsets (known as folds) then we perform training on the all the subsets but leave one subset for the evaluation of the trained model. In this method, we iterate k times with a different subset reserved for testing purpose each time."
   ],
   "id": "44bfe02f45438186"
  },
  {
   "metadata": {
    "ExecuteTime": {
     "end_time": "2024-11-07T17:12:34.651523Z",
     "start_time": "2024-11-07T17:12:34.646482Z"
    }
   },
   "cell_type": "code",
   "source": [
    "\n",
    "\n",
    "def cross_validation(X, y, k=None, model=None):\n",
    "    \"\"\"\n",
    "    Perform k-fold cross-validation and leave-one-out cross-validation on the provided dataset using a specified model.\n",
    "    \n",
    "    Parameters:\n",
    "    ----------\n",
    "    X : pandas.DataFrame\n",
    "        The input features for the dataset (predictors).\n",
    "    y : pandas.Series\n",
    "        The target variable (response).\n",
    "    k : int, optional\n",
    "        The number of folds to split the data into. If not specified, \n",
    "        the function defaults to leave-one-out cross-validation (LOOCV), \n",
    "        where each fold consists of a single data point.\n",
    "    model : object, optional\n",
    "        The model to use for training. If not specified, defaults to LinearRegression.\n",
    "    \n",
    "    Returns:\n",
    "    -------\n",
    "    float\n",
    "        The mean squared error (MSE) averaged over all folds.\n",
    "    \n",
    "    \"\"\"\n",
    "    \n",
    "    if model is None:\n",
    "        model = LinearRegression()\n",
    "    \n",
    "    # Convert to numpy arrays for easier manipulation\n",
    "    X = X.values\n",
    "    y = y.values\n",
    "    \n",
    "    # Data shuffling\n",
    "    indices = np.random.permutation(len(y))\n",
    "    X = X[indices]\n",
    "    y = y[indices]\n",
    "    \n",
    "    n = len(y)\n",
    "    if k is None:\n",
    "        k = len(y)\n",
    "    fold_size = n // k\n",
    "    errors = [] # the performance metric for each fold\n",
    "    \n",
    "    for i in range(k):\n",
    "        start = i * fold_size\n",
    "        end = start + fold_size if i < k-1 else n\n",
    "        \n",
    "        X_train = np.concatenate((X[:start], X[end:]), axis=0)\n",
    "        y_train = np.concatenate((y[:start], y[end:]), axis=0)\n",
    "        X_test = X[start:end]\n",
    "        y_test = y[start:end]\n",
    "        \n",
    "        model.fit(X_train, y_train)\n",
    "        y_pred = model.predict(X_test)\n",
    "        \n",
    "        errors.append(mean_squared_error(y_test, y_pred))\n",
    "        \n",
    "    return np.mean(errors)\n",
    "    "
   ],
   "id": "e72022cd2b1ba3d5",
   "outputs": [],
   "execution_count": 152
  },
  {
   "metadata": {},
   "cell_type": "markdown",
   "source": "## Forward feature selection",
   "id": "265ed34192a967aa"
  },
  {
   "metadata": {
    "ExecuteTime": {
     "end_time": "2024-11-07T17:40:21.789242Z",
     "start_time": "2024-11-07T17:40:21.784924Z"
    }
   },
   "cell_type": "code",
   "source": [
    "def forward_selection(X, y):\n",
    "    selected_features = []\n",
    "    remaining_features = list(X.columns)\n",
    "    best_score = float('inf')\n",
    "    \n",
    "    while remaining_features:\n",
    "        scores = []\n",
    "        for feature in remaining_features:\n",
    "            features = selected_features + [feature]\n",
    "            X_subset = X[features]\n",
    "            score = cross_validation(X_subset, y, k=5, model=LinearRegression())\n",
    "            scores.append((score, feature))\n",
    "        \n",
    "        scores.sort()\n",
    "        best_new_score, best_feature = scores[0]\n",
    "        \n",
    "        if best_new_score < best_score:\n",
    "            selected_features.append(best_feature)\n",
    "            remaining_features.remove(best_feature)\n",
    "            best_score = best_new_score\n",
    "        else:\n",
    "            break \n",
    "    \n",
    "    return selected_features\n"
   ],
   "id": "e815ce1b53261886",
   "outputs": [],
   "execution_count": 156
  },
  {
   "metadata": {
    "ExecuteTime": {
     "end_time": "2024-11-07T17:40:30.330145Z",
     "start_time": "2024-11-07T17:40:23.761806Z"
    }
   },
   "cell_type": "code",
   "source": [
    "selected_features = forward_selection(X_train, y_train)\n",
    "selected_features"
   ],
   "id": "6439ba0004127173",
   "outputs": [
    {
     "data": {
      "text/plain": [
       "['PctKids2Par',\n",
       " 'racePctWhite',\n",
       " 'HousVacant',\n",
       " 'pctUrban',\n",
       " 'PctWorkMom',\n",
       " 'MalePctDivorce',\n",
       " 'PctIlleg',\n",
       " 'RacialMatchCommPol',\n",
       " 'NumStreet',\n",
       " 'PctHousOccup',\n",
       " 'population']"
      ]
     },
     "execution_count": 157,
     "metadata": {},
     "output_type": "execute_result"
    }
   ],
   "execution_count": 157
  },
  {
   "metadata": {
    "ExecuteTime": {
     "end_time": "2024-11-07T18:22:08.675490Z",
     "start_time": "2024-11-07T18:22:08.562627Z"
    }
   },
   "cell_type": "code",
   "source": [
    "# Testing the model on the independent test set\n",
    "\n",
    "final_model = LinearRegression()\n",
    "final_model.fit(X_train[selected_features], y_train)\n",
    "\n",
    "y_test_pred = final_model.predict(X_test[selected_features])\n",
    "test_error1 = mean_squared_error(y_test, y_test_pred)\n",
    "\n",
    "test_error2 = cross_validation(X_test[selected_features], y_test, k=5)\n",
    "test_error3 = cross_validation(X, y, k=5)\n",
    "\n",
    "print(f\"Independent Test Set MSE (pure model): {test_error1}\")\n",
    "print(f\"Independent Test Set MSE (using cross validation) on selected features: {test_error2}\")\n",
    "print(f\"MSE (using cross validation) on whole dataset: {test_error3}\")"
   ],
   "id": "af79b9f9e123ee9e",
   "outputs": [
    {
     "name": "stdout",
     "output_type": "stream",
     "text": [
      "Independent Test Set MSE (pure model): 0.017698488810262574\n",
      "Independent Test Set MSE (using cross validation) on selected features: 0.01880441292685407\n",
      "MSE (using cross validation) on whole dataset: 0.26534942411793755\n"
     ]
    }
   ],
   "execution_count": 178
  },
  {
   "metadata": {},
   "cell_type": "markdown",
   "source": [
    "## The bootstrap method\n",
    "Applied to the train set generating 1000 different train sets and training 1000 different linear models."
   ],
   "id": "63b670104605537f"
  },
  {
   "metadata": {
    "ExecuteTime": {
     "end_time": "2024-11-07T17:47:48.270915Z",
     "start_time": "2024-11-07T17:47:48.266730Z"
    }
   },
   "cell_type": "code",
   "source": [
    "\n",
    "def bootstrap(X, y, num_samples=1000):\n",
    "    bootstrap_metrics = []\n",
    "    \n",
    "    for _ in range(num_samples):\n",
    "        # Sample with replacement\n",
    "        X_sample, y_sample = resample(X, y)\n",
    "        \n",
    "        mse_score = cross_validation(X_sample, y_sample, k=5, model=LinearRegression())\n",
    "        bootstrap_metrics.append(mse_score)\n",
    "    \n",
    "    return bootstrap_metrics\n"
   ],
   "id": "ebc84e3ec697549f",
   "outputs": [],
   "execution_count": 164
  },
  {
   "metadata": {},
   "cell_type": "markdown",
   "source": [
    "### Confidence intervals\n",
    "Calculate confidence intervals for the mean squared error (MSE) using bootstrap resampling.\n",
    " - The confidence intervals provide a range of values within which the true population parameter (mean MSE) is likely to fall, based on the resampled data. The confidence intervals are calculated at different confidence levels (e.g., 90%, 95%, 99%) to provide a measure of the uncertainty associated with the model's performance."
   ],
   "id": "9ff9b56402d661d5"
  },
  {
   "metadata": {
    "ExecuteTime": {
     "end_time": "2024-11-07T17:51:08.914171Z",
     "start_time": "2024-11-07T17:51:04.407833Z"
    }
   },
   "cell_type": "code",
   "source": "bootstrap_metrics = bootstrap(X_train[selected_features], y_train)",
   "id": "daf3e65c1762fc",
   "outputs": [],
   "execution_count": 172
  },
  {
   "metadata": {
    "ExecuteTime": {
     "end_time": "2024-11-07T17:51:48.178918Z",
     "start_time": "2024-11-07T17:51:48.045989Z"
    }
   },
   "cell_type": "code",
   "source": [
    "\n",
    "# 90% CI, 95% CI, 99% CI\n",
    "lower_bound_90 = np.percentile(bootstrap_metrics, 5)\n",
    "upper_bound_90 = np.percentile(bootstrap_metrics, 95)\n",
    "\n",
    "lower_bound_95 = np.percentile(bootstrap_metrics, 2.5)\n",
    "upper_bound_95 = np.percentile(bootstrap_metrics, 97.5)\n",
    "\n",
    "lower_bound_99 = np.percentile(bootstrap_metrics, 0.5)\n",
    "upper_bound_99 = np.percentile(bootstrap_metrics, 99.5)\n",
    "\n",
    "\n",
    "plt.figure(figsize=(12, 8))\n",
    "plt.hist(bootstrap_metrics, bins=30, edgecolor='k', alpha=0.7)\n",
    "plt.axvline(lower_bound_95, color='red', linestyle='--', label=f'95% Lower Bound (2.5th percentile): {lower_bound_95:.3f}')\n",
    "plt.axvline(upper_bound_95, color='red', linestyle='--', label=f'95% Upper Bound (97.5th percentile): {upper_bound_95:.3f}')\n",
    "plt.axvline(lower_bound_99, color='green', linestyle='--', label=f'99% Lower Bound (0.5th percentile): {lower_bound_99:.3f}')\n",
    "plt.axvline(upper_bound_99, color='green', linestyle='--', label=f'99% Upper Bound (99.5th percentile): {upper_bound_99:.3f}')\n",
    "plt.axvline(lower_bound_90, color='orange', linestyle='--', label=f'90% Lower Bound (5th percentile): {lower_bound_90:.3f}')\n",
    "plt.axvline(upper_bound_90, color='orange', linestyle='--', label=f'90% Upper Bound (95th percentile): {upper_bound_90:.3f}')\n",
    "plt.axvline(np.mean(bootstrap_metrics), color='blue', linestyle='-', label=f'Mean: {np.mean(bootstrap_metrics):.3f}')\n",
    "plt.title('Bootstrap Distribution of Mean Squared Error (MSE)')\n",
    "plt.xlabel('MSE')\n",
    "plt.ylabel('Frequency')\n",
    "plt.legend()\n",
    "plt.show()\n",
    "\n",
    "print(f\"95% Confidence Interval for MSE: [{lower_bound_95:.3f}, {upper_bound_95:.3f}]\")\n",
    "print(f\"99% Confidence Interval for MSE: [{lower_bound_99:.3f}, {upper_bound_99:.3f}]\")\n",
    "print(f\"90% Confidence Interval for MSE: [{lower_bound_90:.3f}, {upper_bound_90:.3f}]\")\n"
   ],
   "id": "9c20420e1f946eb",
   "outputs": [
    {
     "data": {
      "text/plain": [
       "<Figure size 1200x800 with 1 Axes>"
      ],
      "image/png": "[encoded data removed]"
     },
     "metadata": {},
     "output_type": "display_data"
    },
    {
     "name": "stdout",
     "output_type": "stream",
     "text": [
      "95% Confidence Interval for MSE: [0.017, 0.021]\n",
      "99% Confidence Interval for MSE: [0.017, 0.022]\n",
      "90% Confidence Interval for MSE: [0.017, 0.021]\n"
     ]
    }
   ],
   "execution_count": 173
  },
  {
   "metadata": {},
   "cell_type": "markdown",
   "source": "The bootstrap analysis revealed that the linear regression model demonstrated a consistent and reliable performance in predicting the target variable, as indicated by the narrow range of the mean squared error across different confidence intervals. Specifically, the 95% confidence interval for the MSE was [0.017, 0.021], while the 99% interval extended slightly to [0.017, 0.022], showing a high degree of stability and low variability in model error across different resampled datasets. This indicates that the model generalizes well and maintains a stable error rate regardless of slight changes in the training data. The results suggest that the linear regression model is robust and reliable for predicting the target variable based on the selected features.",
   "id": "9065b44130294f3c"
  }
 ],
 "metadata": {
  "kernelspec": {
   "display_name": "Python 3",
   "language": "python",
   "name": "python3"
  },
  "language_info": {
   "codemirror_mode": {
    "name": "ipython",
    "version": 2
   },
   "file_extension": ".py",
   "mimetype": "text/x-python",
   "name": "python",
   "nbconvert_exporter": "python",
   "pygments_lexer": "ipython2",
   "version": "2.7.6"
  }
 },
 "nbformat": 4,
 "nbformat_minor": 5
}
