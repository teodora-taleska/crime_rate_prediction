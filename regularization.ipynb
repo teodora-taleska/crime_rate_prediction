{
 "cells": [
  {
   "metadata": {},
   "cell_type": "markdown",
   "source": [
    "# Regularization methods\n",
    "Ridge regularization method using gradient descent and stochastic gradient descent"
   ],
   "id": "b0e271d55b70b7ed"
  },
  {
   "cell_type": "code",
   "id": "initial_id",
   "metadata": {
    "collapsed": true,
    "ExecuteTime": {
     "end_time": "2024-11-12T17:49:08.102995Z",
     "start_time": "2024-11-12T17:49:08.098654Z"
    }
   },
   "source": [
    "import pandas as pd\n",
    "import numpy as np\n",
    "from sklearn.metrics import mean_absolute_error, mean_squared_error\n",
    "from sklearn.model_selection import train_test_split\n",
    "import matplotlib.pyplot as plt   \n",
    "from sklearn.preprocessing import StandardScaler\n",
    "from sklearn.linear_model import Ridge, Lasso"
   ],
   "outputs": [],
   "execution_count": 12
  },
  {
   "metadata": {},
   "cell_type": "markdown",
   "source": "## Communities and Crime Data Preprocessing",
   "id": "cdf3c444f546d320"
  },
  {
   "metadata": {
    "ExecuteTime": {
     "end_time": "2024-11-12T20:45:02.816594Z",
     "start_time": "2024-11-12T20:45:02.711320Z"
    }
   },
   "cell_type": "code",
   "source": [
    "\n",
    "data_path = \"data/communities.data\"\n",
    "data = pd.read_csv(data_path, header=None, na_values=['?'])\n",
    "\n",
    "# Reading attribute names from the .names file\n",
    "def load_attribute_names(names_path):\n",
    "    attribute_names = []\n",
    "    with open(names_path, 'r') as f:\n",
    "        for line in f:\n",
    "            if line.startswith('@attribute'):\n",
    "                attribute_name = line.split()[1]\n",
    "                attribute_names.append(attribute_name)\n",
    "    return attribute_names\n",
    "\n",
    "names_path = \"data/communities.names\"\n",
    "attribute_names = load_attribute_names(names_path)\n",
    "\n",
    "data.columns = attribute_names\n",
    "\n",
    "print(data.head())\n"
   ],
   "id": "f0b029c05ae70877",
   "outputs": [
    {
     "name": "stdout",
     "output_type": "stream",
     "text": [
      "   state  county  community        communityname  fold  population  \\\n",
      "0      8     NaN        NaN         Lakewoodcity     1        0.19   \n",
      "1     53     NaN        NaN          Tukwilacity     1        0.00   \n",
      "2     24     NaN        NaN         Aberdeentown     1        0.00   \n",
      "3     34     5.0    81440.0  Willingborotownship     1        0.04   \n",
      "4     42    95.0     6096.0    Bethlehemtownship     1        0.01   \n",
      "\n",
      "   householdsize  racepctblack  racePctWhite  racePctAsian  ...  LandArea  \\\n",
      "0           0.33          0.02          0.90          0.12  ...      0.12   \n",
      "1           0.16          0.12          0.74          0.45  ...      0.02   \n",
      "2           0.42          0.49          0.56          0.17  ...      0.01   \n",
      "3           0.77          1.00          0.08          0.12  ...      0.02   \n",
      "4           0.55          0.02          0.95          0.09  ...      0.04   \n",
      "\n",
      "   PopDens  PctUsePubTrans  PolicCars  PolicOperBudg  LemasPctPolicOnPatr  \\\n",
      "0     0.26            0.20       0.06           0.04                  0.9   \n",
      "1     0.12            0.45        NaN            NaN                  NaN   \n",
      "2     0.21            0.02        NaN            NaN                  NaN   \n",
      "3     0.39            0.28        NaN            NaN                  NaN   \n",
      "4     0.09            0.02        NaN            NaN                  NaN   \n",
      "\n",
      "   LemasGangUnitDeploy  LemasPctOfficDrugUn  PolicBudgPerPop  \\\n",
      "0                  0.5                 0.32             0.14   \n",
      "1                  NaN                 0.00              NaN   \n",
      "2                  NaN                 0.00              NaN   \n",
      "3                  NaN                 0.00              NaN   \n",
      "4                  NaN                 0.00              NaN   \n",
      "\n",
      "   ViolentCrimesPerPop  \n",
      "0                 0.20  \n",
      "1                 0.67  \n",
      "2                 0.43  \n",
      "3                 0.12  \n",
      "4                 0.03  \n",
      "\n",
      "[5 rows x 128 columns]\n"
     ]
    }
   ],
   "execution_count": 25
  },
  {
   "metadata": {
    "ExecuteTime": {
     "end_time": "2024-11-12T20:45:08.195410Z",
     "start_time": "2024-11-12T20:45:08.107533Z"
    }
   },
   "cell_type": "code",
   "source": [
    "data = data.drop(data.columns[0:5], axis=1)\n",
    "\n",
    "data = data.fillna(data.mean())\n",
    "\n",
    "total_missing = data.isna().sum().sum()\n",
    "print(f\"Total missing values: {total_missing}\")\n",
    "\n",
    "y = data['ViolentCrimesPerPop']\n",
    "X = data.drop(columns=['ViolentCrimesPerPop'])\n"
   ],
   "id": "744c24bed1a868d8",
   "outputs": [
    {
     "name": "stdout",
     "output_type": "stream",
     "text": [
      "Total missing values: 0\n"
     ]
    }
   ],
   "execution_count": 26
  },
  {
   "metadata": {
    "ExecuteTime": {
     "end_time": "2024-11-12T20:45:09.703359Z",
     "start_time": "2024-11-12T20:45:09.627387Z"
    }
   },
   "cell_type": "code",
   "source": [
    "# since regularization methods like Ridge and Lasso are sensitive to the scale of the features, we need to normalize the data\n",
    "X_train, X_test, y_train, y_test = train_test_split(X, y, test_size=0.2, random_state=42)\n",
    "\n",
    "scaler = StandardScaler()\n",
    "X_train_scaled = scaler.fit_transform(X_train)\n",
    "\n",
    "X_test_scaled = scaler.transform(X_test)"
   ],
   "id": "16aaa87f11bad29c",
   "outputs": [],
   "execution_count": 27
  },
  {
   "metadata": {},
   "cell_type": "markdown",
   "source": [
    "## Ridge and Lasso Regression\n",
    "\n",
    "Fit models using ridge and lasso regression. Try different values of the regularization\n",
    "parameter and evaluate its effect. Choose the optimal regularization parameter and\n",
    "discribe how you did it."
   ],
   "id": "8a7590dfb3bd3a60"
  },
  {
   "metadata": {
    "ExecuteTime": {
     "end_time": "2024-11-12T20:46:49.367102Z",
     "start_time": "2024-11-12T20:46:49.061782Z"
    }
   },
   "cell_type": "code",
   "source": [
    "\n",
    "\n",
    "def fit_ridge(X_train, y_train, X_test, y_test, alpha):\n",
    "    ridge = Ridge(alpha=alpha)\n",
    "    ridge.fit(X_train, y_train)\n",
    "    y_pred = ridge.predict(X_test)\n",
    "    mae = mean_absolute_error(y_test, y_pred)\n",
    "    mse = mean_squared_error(y_test, y_pred)\n",
    "    # print('\\nRIDGE ---\\nMAE: ', mae, '\\nMSE: ', mse, '\\nalpha: ', alpha)\n",
    "    return mae, mse\n",
    "\n",
    "def fit_lasso(X_train, y_train, X_test, y_test, alpha):\n",
    "    lasso = Lasso(alpha=alpha)\n",
    "    lasso.fit(X_train, y_train)\n",
    "    y_pred = lasso.predict(X_test)\n",
    "    mae = mean_absolute_error(y_test, y_pred)\n",
    "    mse = mean_squared_error(y_test, y_pred)\n",
    "    # print('\\nLASSO --- \\nMAE: ', mae, '\\nMSE: ', mse, '\\nalpha: ', alpha)\n",
    "    return mae, mse\n",
    "\n",
    "alpha_values = np.logspace(-3, 3, 10)\n",
    "print(\"Alpha values: \", alpha_values)\n",
    "\n",
    "ridge_mae_values = []\n",
    "ridge_mse_values = []\n",
    "lasso_mae_values = []\n",
    "lasso_mse_values = []\n",
    "\n",
    "for alpha in alpha_values:\n",
    "    mae, mse = fit_ridge(X_train_scaled, y_train, X_test_scaled, y_test, alpha)\n",
    "    ridge_mae_values.append(mae)\n",
    "    ridge_mse_values.append(mse)\n",
    "\n",
    "    mae, mse = fit_lasso(X_train_scaled, y_train, X_test_scaled, y_test, alpha)\n",
    "    lasso_mae_values.append(mae)\n",
    "    lasso_mse_values.append(mse)\n",
    "\n",
    "best_ridge_alpha = alpha_values[np.argmin(ridge_mse_values)]\n",
    "best_lasso_alpha = alpha_values[np.argmin(lasso_mse_values)]\n",
    "\n",
    "plt.plot(alpha_values, ridge_mae_values, label='Ridge MAE')\n",
    "plt.plot(alpha_values, ridge_mse_values, label='Ridge MSE')\n",
    "plt.plot(alpha_values, lasso_mae_values, label='Lasso MAE')\n",
    "plt.plot(alpha_values, lasso_mse_values, label='Lasso MSE')\n",
    "plt.axvline(x=best_ridge_alpha, color='r', linestyle='--', label=f'Best Ridge Alpha: {best_ridge_alpha}')\n",
    "plt.axvline(x=best_lasso_alpha, color='b', linestyle='--', label=f'Best Lasso Alpha: {best_lasso_alpha}')\n",
    "plt.xscale('log')\n",
    "plt.xlabel('Alpha')\n",
    "plt.ylabel('MSE/MAE')\n",
    "plt.legend()\n",
    "plt.show()\n",
    "\n",
    "print(f\"Best alpha for Ridge: {best_ridge_alpha}\")\n",
    "print(f\"Best alpha for Lasso: {best_lasso_alpha}\")\n",
    "\n",
    "ridge_mae, ridge_mse = fit_ridge(X_train_scaled, y_train, X_test_scaled, y_test, best_ridge_alpha)\n",
    "lasso_mae, lasso_mse = fit_lasso(X_train_scaled, y_train, X_test_scaled, y_test, best_lasso_alpha)\n",
    "\n",
    "print(f\"Best Ridge Alpha: {best_ridge_alpha}, MAE: {ridge_mae}, MSE: {ridge_mse}\")\n",
    "print(f\"Best Lasso Alpha: {best_lasso_alpha}, MAE: {lasso_mae}, MSE: {lasso_mse}\")"
   ],
   "id": "e47fa79e9f795504",
   "outputs": [
    {
     "name": "stdout",
     "output_type": "stream",
     "text": [
      "Alpha values:  [1.00000000e-03 4.64158883e-03 2.15443469e-02 1.00000000e-01\n",
      " 4.64158883e-01 2.15443469e+00 1.00000000e+01 4.64158883e+01\n",
      " 2.15443469e+02 1.00000000e+03]\n"
     ]
    },
    {
     "data": {
      "text/plain": [
       "<Figure size 640x480 with 1 Axes>"
      ],
      "image/png": "[encoded data removed]"
     },
     "metadata": {},
     "output_type": "display_data"
    },
    {
     "name": "stdout",
     "output_type": "stream",
     "text": [
      "Best alpha for Ridge: 215.44346900318823\n",
      "Best alpha for Lasso: 0.004641588833612777\n",
      "Best Ridge Alpha: 215.44346900318823, MAE: 0.09133170124601857, MSE: 0.017491192593826397\n",
      "Best Lasso Alpha: 0.004641588833612777, MAE: 0.09111247114704406, MSE: 0.017334253970267534\n"
     ]
    }
   ],
   "execution_count": 30
  },
  {
   "metadata": {},
   "cell_type": "markdown",
   "source": "To choose the optimal regularization parameter I generated alpha values with the help of the function np.logspace(-3, 3, 10) which generates 10 values between 10^-3 and 10^3. This range was chosen to cover a wide spectrum of possible regularization strengths, from very small (almost no regularization) to very large (strong regularization). I then calculated the mean absolute error and mean squared error for each alpha value for both Ridge and Lasso regression. I chose the alpha value that minimizes the mean squared error for both Ridge and Lasso regression.",
   "id": "ed1cd6182cde0fd1"
  },
  {
   "metadata": {},
   "cell_type": "markdown",
   "source": "### Compare the attributes selected with forward attribute selection (the results from the previous assignment) with the attributes lasso selected.",
   "id": "a366dad09513d859"
  },
  {
   "metadata": {
    "ExecuteTime": {
     "end_time": "2024-11-12T17:52:38.796489Z",
     "start_time": "2024-11-12T17:52:38.787832Z"
    }
   },
   "cell_type": "code",
   "source": [
    "# Forward attribute selection results from previous assignment\n",
    "\n",
    "# ['PctKids2Par',\n",
    "#  'racePctWhite',\n",
    "#  'HousVacant',\n",
    "#  'pctUrban',\n",
    "#  'PctWorkMom',\n",
    "#  'MalePctDivorce',\n",
    "#  'PctIlleg',\n",
    "#  'RacialMatchCommPol',\n",
    "#  'NumStreet',\n",
    "#  'PctHousOccup',\n",
    "#  'population']"
   ],
   "id": "9924078164ce2a05",
   "outputs": [],
   "execution_count": 17
  },
  {
   "metadata": {
    "ExecuteTime": {
     "end_time": "2024-11-12T20:48:01.542874Z",
     "start_time": "2024-11-12T20:48:01.518166Z"
    }
   },
   "cell_type": "code",
   "source": [
    "lasso = Lasso(alpha=best_lasso_alpha)\n",
    "lasso.fit(X_train_scaled, y_train)\n",
    "lasso_selected_features = X_train.columns[lasso.coef_ != 0]  # select features with non-zero coefficients\n",
    "lasso_selected_features_list = lasso_selected_features.tolist()\n",
    "print(\"Lasso selected features: \", lasso_selected_features_list)"
   ],
   "id": "8ab6d1f2fe489259",
   "outputs": [
    {
     "name": "stdout",
     "output_type": "stream",
     "text": [
      "Lasso selected features:  ['racepctblack', 'racePctWhite', 'agePct12t29', 'pctUrban', 'pctWInvInc', 'AsianPerCap', 'OtherPerCap', 'PctEmplManu', 'MalePctDivorce', 'PctKids2Par', 'PctYoungKids2Par', 'PctWorkMom', 'PctIlleg', 'PctPersDenseHous', 'HousVacant', 'PctHousOccup', 'PctVacantBoarded', 'MedRentPctHousInc', 'MedOwnCostPctIncNoMtg', 'NumStreet', 'PctForeignBorn', 'PolicReqPerOffic', 'RacialMatchCommPol', 'PctPolicWhite', 'PctPolicBlack', 'LemasPctOfficDrugUn']\n"
     ]
    }
   ],
   "execution_count": 32
  },
  {
   "metadata": {},
   "cell_type": "markdown",
   "source": [
    "#### Based on the comparison, we can conclude that:\n",
    "- *Common Features*: The features racePctWhite, pctUrban, PctWorkMom, MalePctDivorce, PctIlleg, HousVacant, PctHousOccup, and NumStreet were selected by both forward feature selection and Lasso regression, indicating their strong relevance to the target variable.\n",
    "- *Unique to Forward Selection*: The features RacialMatchCommPol and population were selected only by forward feature selection, suggesting that these features might provide incremental improvements in model performance that Lasso did not capture.\n",
    "- *Unique to Lasso Regression*: The features racepctblack, agePct12t29, pctWInvInc, AsianPerCap, OtherPerCap, PctEmplManu, PctYoungKids2Par, PctPersDenseHous, PctVacantBoarded, MedRentPctHousInc, MedOwnCostPctIncNoMtg, PctForeignBorn, PolicReqPerOffic, PctPolicWhite, PctPolicBlack, and LemasPctOfficDrugUn were selected only by Lasso regression, indicating that Lasso's regularization might have identified these features as important while controlling for multicollinearity and overfitting."
   ],
   "id": "f06e7df396623f7f"
  },
  {
   "metadata": {},
   "cell_type": "markdown",
   "source": "## Wine quality dataset",
   "id": "5fae2d3ccfd4725a"
  },
  {
   "metadata": {
    "ExecuteTime": {
     "end_time": "2024-11-12T18:07:16.676419Z",
     "start_time": "2024-11-12T18:07:16.624452Z"
    }
   },
   "cell_type": "code",
   "source": [
    "wine_data_path = \"data/winequality-white.csv\"\n",
    "wine_data = pd.read_csv(wine_data_path, header=0, sep=';')\n",
    "wine_data.head(5)"
   ],
   "id": "2e100bb0d3de69f2",
   "outputs": [
    {
     "data": {
      "text/plain": [
       "   fixed acidity  volatile acidity  citric acid  residual sugar  chlorides  \\\n",
       "0            7.0              0.27         0.36            20.7      0.045   \n",
       "1            6.3              0.30         0.34             1.6      0.049   \n",
       "2            8.1              0.28         0.40             6.9      0.050   \n",
       "3            7.2              0.23         0.32             8.5      0.058   \n",
       "4            7.2              0.23         0.32             8.5      0.058   \n",
       "\n",
       "   free sulfur dioxide  total sulfur dioxide  density    pH  sulphates  \\\n",
       "0                 45.0                 170.0   1.0010  3.00       0.45   \n",
       "1                 14.0                 132.0   0.9940  3.30       0.49   \n",
       "2                 30.0                  97.0   0.9951  3.26       0.44   \n",
       "3                 47.0                 186.0   0.9956  3.19       0.40   \n",
       "4                 47.0                 186.0   0.9956  3.19       0.40   \n",
       "\n",
       "   alcohol  quality  \n",
       "0      8.8        6  \n",
       "1      9.5        6  \n",
       "2     10.1        6  \n",
       "3      9.9        6  \n",
       "4      9.9        6  "
      ],
      "text/html": [
       "<div>\n",
       "<style scoped>\n",
       "    .dataframe tbody tr th:only-of-type {\n",
       "        vertical-align: middle;\n",
       "    }\n",
       "\n",
       "    .dataframe tbody tr th {\n",
       "        vertical-align: top;\n",
       "    }\n",
       "\n",
       "    .dataframe thead th {\n",
       "        text-align: right;\n",
       "    }\n",
       "</style>\n",
       "<table border=\"1\" class=\"dataframe\">\n",
       "  <thead>\n",
       "    <tr style=\"text-align: right;\">\n",
       "      <th></th>\n",
       "      <th>fixed acidity</th>\n",
       "      <th>volatile acidity</th>\n",
       "      <th>citric acid</th>\n",
       "      <th>residual sugar</th>\n",
       "      <th>chlorides</th>\n",
       "      <th>free sulfur dioxide</th>\n",
       "      <th>total sulfur dioxide</th>\n",
       "      <th>density</th>\n",
       "      <th>pH</th>\n",
       "      <th>sulphates</th>\n",
       "      <th>alcohol</th>\n",
       "      <th>quality</th>\n",
       "    </tr>\n",
       "  </thead>\n",
       "  <tbody>\n",
       "    <tr>\n",
       "      <th>0</th>\n",
       "      <td>7.0</td>\n",
       "      <td>0.27</td>\n",
       "      <td>0.36</td>\n",
       "      <td>20.7</td>\n",
       "      <td>0.045</td>\n",
       "      <td>45.0</td>\n",
       "      <td>170.0</td>\n",
       "      <td>1.0010</td>\n",
       "      <td>3.00</td>\n",
       "      <td>0.45</td>\n",
       "      <td>8.8</td>\n",
       "      <td>6</td>\n",
       "    </tr>\n",
       "    <tr>\n",
       "      <th>1</th>\n",
       "      <td>6.3</td>\n",
       "      <td>0.30</td>\n",
       "      <td>0.34</td>\n",
       "      <td>1.6</td>\n",
       "      <td>0.049</td>\n",
       "      <td>14.0</td>\n",
       "      <td>132.0</td>\n",
       "      <td>0.9940</td>\n",
       "      <td>3.30</td>\n",
       "      <td>0.49</td>\n",
       "      <td>9.5</td>\n",
       "      <td>6</td>\n",
       "    </tr>\n",
       "    <tr>\n",
       "      <th>2</th>\n",
       "      <td>8.1</td>\n",
       "      <td>0.28</td>\n",
       "      <td>0.40</td>\n",
       "      <td>6.9</td>\n",
       "      <td>0.050</td>\n",
       "      <td>30.0</td>\n",
       "      <td>97.0</td>\n",
       "      <td>0.9951</td>\n",
       "      <td>3.26</td>\n",
       "      <td>0.44</td>\n",
       "      <td>10.1</td>\n",
       "      <td>6</td>\n",
       "    </tr>\n",
       "    <tr>\n",
       "      <th>3</th>\n",
       "      <td>7.2</td>\n",
       "      <td>0.23</td>\n",
       "      <td>0.32</td>\n",
       "      <td>8.5</td>\n",
       "      <td>0.058</td>\n",
       "      <td>47.0</td>\n",
       "      <td>186.0</td>\n",
       "      <td>0.9956</td>\n",
       "      <td>3.19</td>\n",
       "      <td>0.40</td>\n",
       "      <td>9.9</td>\n",
       "      <td>6</td>\n",
       "    </tr>\n",
       "    <tr>\n",
       "      <th>4</th>\n",
       "      <td>7.2</td>\n",
       "      <td>0.23</td>\n",
       "      <td>0.32</td>\n",
       "      <td>8.5</td>\n",
       "      <td>0.058</td>\n",
       "      <td>47.0</td>\n",
       "      <td>186.0</td>\n",
       "      <td>0.9956</td>\n",
       "      <td>3.19</td>\n",
       "      <td>0.40</td>\n",
       "      <td>9.9</td>\n",
       "      <td>6</td>\n",
       "    </tr>\n",
       "  </tbody>\n",
       "</table>\n",
       "</div>"
      ]
     },
     "execution_count": 22,
     "metadata": {},
     "output_type": "execute_result"
    }
   ],
   "execution_count": 22
  },
  {
   "metadata": {
    "ExecuteTime": {
     "end_time": "2024-11-12T18:07:19.134279Z",
     "start_time": "2024-11-12T18:07:19.113979Z"
    }
   },
   "cell_type": "code",
   "source": [
    "total_missing = data.isna().sum().sum()\n",
    "print(f\"Total missing values: {total_missing}\")"
   ],
   "id": "85ebeedf9ad324a3",
   "outputs": [
    {
     "name": "stdout",
     "output_type": "stream",
     "text": [
      "Total missing values: 0\n"
     ]
    }
   ],
   "execution_count": 23
  },
  {
   "metadata": {
    "ExecuteTime": {
     "end_time": "2024-11-12T18:07:20.156434Z",
     "start_time": "2024-11-12T18:07:20.133958Z"
    }
   },
   "cell_type": "code",
   "source": [
    "y_wine = wine_data['quality']\n",
    "X_wine = wine_data.drop(columns=['quality'])\n",
    "\n",
    "X_wine_train, X_wine_test, y_wine_train, y_wine_test = train_test_split(X_wine, y_wine, test_size=0.2, random_state=42)\n",
    "\n",
    "scaler2 = StandardScaler()\n",
    "X_wine_train_scaled = scaler2.fit_transform(X_wine_train)\n",
    "\n",
    "X_wine_test_scaled = scaler2.transform(X_wine_test)"
   ],
   "id": "a1832b9974e80616",
   "outputs": [],
   "execution_count": 24
  },
  {
   "metadata": {},
   "cell_type": "markdown",
   "source": [
    "## Implement ridge regression with:\n",
    "- gradient descent\n",
    "- stochastic gradient descent\n",
    "\n",
    "(Implement gradient descent from scratch)"
   ],
   "id": "6f3929792396bc00"
  },
  {
   "metadata": {},
   "cell_type": "code",
   "outputs": [],
   "execution_count": null,
   "source": "",
   "id": "f983b1c7ed3e5b17"
  },
  {
   "metadata": {},
   "cell_type": "markdown",
   "source": "### Test different learning rates and try to find the optimal one.",
   "id": "3e2bffc5db0cecd8"
  },
  {
   "metadata": {},
   "cell_type": "code",
   "outputs": [],
   "execution_count": null,
   "source": "",
   "id": "3d0e011088f07be0"
  },
  {
   "metadata": {},
   "cell_type": "markdown",
   "source": "### Compare the time to convergence and the results of the two gradient descents you implemented",
   "id": "17117e16880e140e"
  },
  {
   "metadata": {},
   "cell_type": "code",
   "outputs": [],
   "execution_count": null,
   "source": "",
   "id": "5ed74d826ee9db02"
  }
 ],
 "metadata": {
  "kernelspec": {
   "display_name": "Python 3",
   "language": "python",
   "name": "python3"
  },
  "language_info": {
   "codemirror_mode": {
    "name": "ipython",
    "version": 2
   },
   "file_extension": ".py",
   "mimetype": "text/x-python",
   "name": "python",
   "nbconvert_exporter": "python",
   "pygments_lexer": "ipython2",
   "version": "2.7.6"
  }
 },
 "nbformat": 4,
 "nbformat_minor": 5
}
