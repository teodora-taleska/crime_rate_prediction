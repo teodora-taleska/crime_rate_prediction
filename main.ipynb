{
 "cells": [
  {
   "metadata": {},
   "cell_type": "markdown",
   "source": [
    "# Resampling methods for model evaluation and attribute selection\n",
    "\n"
   ],
   "id": "a71f5c1c79e623c9"
  },
  {
   "metadata": {
    "ExecuteTime": {
     "end_time": "2024-11-06T18:23:29.707811Z",
     "start_time": "2024-11-06T18:23:29.704470Z"
    }
   },
   "cell_type": "code",
   "source": [
    "import pandas as pd\n",
    "import numpy as np\n",
    "from sklearn.linear_model import LinearRegression\n",
    "from sklearn.metrics import mean_absolute_error"
   ],
   "id": "b56085551d747ecb",
   "outputs": [],
   "execution_count": 5
  },
  {
   "metadata": {},
   "cell_type": "markdown",
   "source": "## Data preprocessing",
   "id": "9737db98f6496c70"
  },
  {
   "cell_type": "code",
   "id": "initial_id",
   "metadata": {
    "collapsed": true,
    "ExecuteTime": {
     "end_time": "2024-11-06T18:23:33.572532Z",
     "start_time": "2024-11-06T18:23:33.546013Z"
    }
   },
   "source": [
    "\n",
    "data_path = \"data/communities.data\"\n",
    "data = pd.read_csv(data_path, header=None, na_values=['?'])\n",
    "\n",
    "# Reading attribute names from the .names file\n",
    "def load_attribute_names(names_path):\n",
    "    attribute_names = []\n",
    "    with open(names_path, 'r') as f:\n",
    "        for line in f:\n",
    "            if line.startswith('@attribute'):\n",
    "                attribute_name = line.split()[1]\n",
    "                attribute_names.append(attribute_name)\n",
    "    return attribute_names\n",
    "\n",
    "names_path = \"data/communities.names\"\n",
    "attribute_names = load_attribute_names(names_path)\n",
    "\n",
    "data.columns = attribute_names\n",
    "\n",
    "print(data.head())\n",
    "\n",
    "# Number of Instances: 1994\n",
    "# Number of Attributes: 128\n"
   ],
   "outputs": [
    {
     "name": "stdout",
     "output_type": "stream",
     "text": [
      "   state  county  community        communityname  fold  population  \\\n",
      "0      8     NaN        NaN         Lakewoodcity     1        0.19   \n",
      "1     53     NaN        NaN          Tukwilacity     1        0.00   \n",
      "2     24     NaN        NaN         Aberdeentown     1        0.00   \n",
      "3     34     5.0    81440.0  Willingborotownship     1        0.04   \n",
      "4     42    95.0     6096.0    Bethlehemtownship     1        0.01   \n",
      "\n",
      "   householdsize  racepctblack  racePctWhite  racePctAsian  ...  LandArea  \\\n",
      "0           0.33          0.02          0.90          0.12  ...      0.12   \n",
      "1           0.16          0.12          0.74          0.45  ...      0.02   \n",
      "2           0.42          0.49          0.56          0.17  ...      0.01   \n",
      "3           0.77          1.00          0.08          0.12  ...      0.02   \n",
      "4           0.55          0.02          0.95          0.09  ...      0.04   \n",
      "\n",
      "   PopDens  PctUsePubTrans  PolicCars  PolicOperBudg  LemasPctPolicOnPatr  \\\n",
      "0     0.26            0.20       0.06           0.04                  0.9   \n",
      "1     0.12            0.45        NaN            NaN                  NaN   \n",
      "2     0.21            0.02        NaN            NaN                  NaN   \n",
      "3     0.39            0.28        NaN            NaN                  NaN   \n",
      "4     0.09            0.02        NaN            NaN                  NaN   \n",
      "\n",
      "   LemasGangUnitDeploy  LemasPctOfficDrugUn  PolicBudgPerPop  \\\n",
      "0                  0.5                 0.32             0.14   \n",
      "1                  NaN                 0.00              NaN   \n",
      "2                  NaN                 0.00              NaN   \n",
      "3                  NaN                 0.00              NaN   \n",
      "4                  NaN                 0.00              NaN   \n",
      "\n",
      "   ViolentCrimesPerPop  \n",
      "0                 0.20  \n",
      "1                 0.67  \n",
      "2                 0.43  \n",
      "3                 0.12  \n",
      "4                 0.03  \n",
      "\n",
      "[5 rows x 128 columns]\n"
     ]
    }
   ],
   "execution_count": 7
  },
  {
   "metadata": {
    "ExecuteTime": {
     "end_time": "2024-11-06T18:23:35.332094Z",
     "start_time": "2024-11-06T18:23:35.326141Z"
    }
   },
   "cell_type": "code",
   "source": [
    "missing_values = data.isna().sum()\n",
    "print(missing_values)"
   ],
   "id": "7fa016941ef944d5",
   "outputs": [
    {
     "name": "stdout",
     "output_type": "stream",
     "text": [
      "state                     0\n",
      "county                 1174\n",
      "community              1177\n",
      "communityname             0\n",
      "fold                      0\n",
      "                       ... \n",
      "LemasPctPolicOnPatr    1675\n",
      "LemasGangUnitDeploy    1675\n",
      "LemasPctOfficDrugUn       0\n",
      "PolicBudgPerPop        1675\n",
      "ViolentCrimesPerPop       0\n",
      "Length: 128, dtype: int64\n"
     ]
    }
   ],
   "execution_count": 8
  },
  {
   "metadata": {
    "ExecuteTime": {
     "end_time": "2024-11-06T18:23:37.388139Z",
     "start_time": "2024-11-06T18:23:37.382455Z"
    }
   },
   "cell_type": "code",
   "source": [
    "# data = data.drop(['state', 'county', 'community', 'communityname', 'fold'], axis=1)\n",
    "data = data.drop(data.columns[0:5], axis=1)"
   ],
   "id": "613c1809e9d3db03",
   "outputs": [],
   "execution_count": 9
  },
  {
   "metadata": {
    "ExecuteTime": {
     "end_time": "2024-11-06T18:23:39.064397Z",
     "start_time": "2024-11-06T18:23:39.047231Z"
    }
   },
   "cell_type": "code",
   "source": [
    "# Since there is only numeric data left - missing values => average of the feature\n",
    "data = data.fillna(data.mean())"
   ],
   "id": "b25364af496c080f",
   "outputs": [],
   "execution_count": 10
  },
  {
   "metadata": {
    "ExecuteTime": {
     "end_time": "2024-11-06T18:23:40.571718Z",
     "start_time": "2024-11-06T18:23:40.565328Z"
    }
   },
   "cell_type": "code",
   "source": [
    "total_missing = data.isna().sum().sum()\n",
    "print(f\"Total missing values: {total_missing}\")"
   ],
   "id": "ede897ed2cd367c7",
   "outputs": [
    {
     "name": "stdout",
     "output_type": "stream",
     "text": [
      "Total missing values: 0\n"
     ]
    }
   ],
   "execution_count": 11
  },
  {
   "metadata": {
    "ExecuteTime": {
     "end_time": "2024-11-06T18:50:57.949172Z",
     "start_time": "2024-11-06T18:50:57.936384Z"
    }
   },
   "cell_type": "code",
   "source": [
    "y = data['ViolentCrimesPerPop']\n",
    "X = data.drop(columns=['ViolentCrimesPerPop'])"
   ],
   "id": "b16b4867f1073345",
   "outputs": [],
   "execution_count": 35
  },
  {
   "metadata": {},
   "cell_type": "markdown",
   "source": [
    "## Cross Validation Method\n",
    "\n",
    "Cross validation is a technique used to evaluate the performance of a model on unseen data. It involves dividing the available data into multiple folds or subsets, using one of these folds as a validation set, and training the model on the remaining folds. This process is repeated multiple times, each time using a different fold as the validation set. Finally, the results from each validation step are averaged to produce a more robust estimate of the model’s performance. Cross validation is an important step in the machine learning process and helps to ensure that the model selected for deployment is robust and generalizes well to new data. \n",
    "\n",
    "Types of cross-validation:\n",
    "1. Leave-One-Out CV: the model is trained on n−1 samples and tested on the one omitted sample, repeating this process for each data point in the dataset.\n",
    "2. K-Fold CV: we split the dataset into k number of subsets (known as folds) then we perform training on the all the subsets but leave one subset for the evaluation of the trained model. In this method, we iterate k times with a different subset reserved for testing purpose each time."
   ],
   "id": "44bfe02f45438186"
  },
  {
   "metadata": {
    "ExecuteTime": {
     "end_time": "2024-11-06T18:49:35.723974Z",
     "start_time": "2024-11-06T18:49:35.716319Z"
    }
   },
   "cell_type": "code",
   "source": [
    "\n",
    "def cross_validation(X, y, k=None):\n",
    "    \n",
    "    # Convert to numpy arrays\n",
    "    X = X.values\n",
    "    y = y.values\n",
    "    \n",
    "    # Data shuffling\n",
    "    indices = np.random.permutation(len(y))\n",
    "    X = X[indices]\n",
    "    y = y[indices]\n",
    "    \n",
    "    n = len(y)\n",
    "    if k is None:\n",
    "        k = len(y)\n",
    "    fold_size = n // k\n",
    "    errors = [] # the performance metric for each fold\n",
    "    \n",
    "    for i in range(k):\n",
    "        start = i * fold_size\n",
    "        end = start + fold_size if i < k-1 else n\n",
    "        \n",
    "        X_train = np.concatenate((X[:start], X[end:]), axis=0)\n",
    "        y_train = np.concatenate((y[:start], y[end:]), axis=0)\n",
    "        X_test = X[start:end]\n",
    "        y_test = y[start:end]\n",
    "        \n",
    "        model = LinearRegression()\n",
    "        model.fit(X_train, y_train)\n",
    "        y_pred = model.predict(X_test)\n",
    "        \n",
    "        errors.append(mean_absolute_error(y_test, y_pred))\n",
    "        \n",
    "    return np.mean(errors)\n",
    "    "
   ],
   "id": "e72022cd2b1ba3d5",
   "outputs": [],
   "execution_count": 32
  },
  {
   "metadata": {
    "ExecuteTime": {
     "end_time": "2024-11-06T18:49:11.176901Z",
     "start_time": "2024-11-06T18:49:11.123001Z"
    }
   },
   "cell_type": "code",
   "source": [
    "cv_5_mse = cross_validation(X, y, k=5)\n",
    "print('Average MSE using 5-fold CV', cv_5_mse)"
   ],
   "id": "ae8a0b9b9c4db8e",
   "outputs": [
    {
     "name": "stdout",
     "output_type": "stream",
     "text": [
      "Average MSE using 5-fold CV 0.11115879651495653\n"
     ]
    }
   ],
   "execution_count": 30
  },
  {
   "metadata": {
    "ExecuteTime": {
     "end_time": "2024-11-06T18:49:35.628200Z",
     "start_time": "2024-11-06T18:49:17.276045Z"
    }
   },
   "cell_type": "code",
   "source": [
    "loocv_mse = cross_validation(X, y)\n",
    "print('Average MSE using LOOCV', loocv_mse)"
   ],
   "id": "56de609073b96e2",
   "outputs": [
    {
     "name": "stdout",
     "output_type": "stream",
     "text": [
      "Average MSE using LOOCV 0.10896465694910112\n"
     ]
    }
   ],
   "execution_count": 31
  },
  {
   "metadata": {},
   "cell_type": "markdown",
   "source": "## Forward feature selection",
   "id": "265ed34192a967aa"
  },
  {
   "metadata": {
    "ExecuteTime": {
     "end_time": "2024-11-06T18:52:38.914032Z",
     "start_time": "2024-11-06T18:52:38.906859Z"
    }
   },
   "cell_type": "code",
   "source": [
    "def forward_selection(X, y):\n",
    "    selected_features = []\n",
    "    remaining_features = list(X.columns)\n",
    "    best_score = float('inf')\n",
    "    \n",
    "    while remaining_features:\n",
    "        scores = []\n",
    "        for feature in remaining_features:\n",
    "            features = selected_features + [feature]\n",
    "            X_subset = X[features]\n",
    "            score = cross_validation(X_subset, y, k=5)\n",
    "            scores.append((score, feature))\n",
    "        \n",
    "        scores.sort()\n",
    "        best_new_score, best_feature = scores[0]\n",
    "        \n",
    "        if best_new_score < best_score:\n",
    "            selected_features.append(best_feature)\n",
    "            remaining_features.remove(best_feature)\n",
    "            best_score = best_new_score\n",
    "        else:\n",
    "            break \n",
    "    \n",
    "    return selected_features\n"
   ],
   "id": "e815ce1b53261886",
   "outputs": [],
   "execution_count": 43
  },
  {
   "metadata": {
    "ExecuteTime": {
     "end_time": "2024-11-06T18:53:12.086465Z",
     "start_time": "2024-11-06T18:53:03.666383Z"
    }
   },
   "cell_type": "code",
   "source": [
    "selected_features = forward_selection(X, y)\n",
    "selected_features"
   ],
   "id": "6439ba0004127173",
   "outputs": [
    {
     "data": {
      "text/plain": [
       "['PctIlleg',\n",
       " 'PctKids2Par',\n",
       " 'racePctWhite',\n",
       " 'HousVacant',\n",
       " 'agePct16t24',\n",
       " 'PctPersDenseHous',\n",
       " 'racepctblack',\n",
       " 'medIncome',\n",
       " 'population',\n",
       " 'NumStreet',\n",
       " 'PctVacantBoarded']"
      ]
     },
     "execution_count": 46,
     "metadata": {},
     "output_type": "execute_result"
    }
   ],
   "execution_count": 46
  },
  {
   "metadata": {},
   "cell_type": "markdown",
   "source": [
    "## The bootstrap method\n",
    "Applied to the train set generating 1000 different train sets and training 1000 different linear models."
   ],
   "id": "63b670104605537f"
  },
  {
   "metadata": {},
   "cell_type": "code",
   "outputs": [],
   "execution_count": null,
   "source": "",
   "id": "ebc84e3ec697549f"
  },
  {
   "metadata": {},
   "cell_type": "markdown",
   "source": [
    "### Confidence intervals\n",
    "For selected metrics"
   ],
   "id": "9ff9b56402d661d5"
  },
  {
   "metadata": {},
   "cell_type": "code",
   "outputs": [],
   "execution_count": null,
   "source": "",
   "id": "9c20420e1f946eb"
  }
 ],
 "metadata": {
  "kernelspec": {
   "display_name": "Python 3",
   "language": "python",
   "name": "python3"
  },
  "language_info": {
   "codemirror_mode": {
    "name": "ipython",
    "version": 2
   },
   "file_extension": ".py",
   "mimetype": "text/x-python",
   "name": "python",
   "nbconvert_exporter": "python",
   "pygments_lexer": "ipython2",
   "version": "2.7.6"
  }
 },
 "nbformat": 4,
 "nbformat_minor": 5
}
